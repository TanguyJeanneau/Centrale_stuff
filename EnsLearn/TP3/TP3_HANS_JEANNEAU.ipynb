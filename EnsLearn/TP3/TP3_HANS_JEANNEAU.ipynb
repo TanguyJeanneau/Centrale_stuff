{
 "cells": [
  {
   "cell_type": "markdown",
   "metadata": {},
   "source": [
    "# Adrien HANS & Tanguy JEANNEAU\n",
    "# EnsLearn - TP n°3\n",
    "\n",
    "# A rendre pour le 6 janvier"
   ]
  },
  {
   "cell_type": "markdown",
   "metadata": {},
   "source": [
    "## Exercice 1 : Boosted trees"
   ]
  },
  {
   "cell_type": "code",
   "execution_count": 1,
   "metadata": {},
   "outputs": [],
   "source": [
    "import numpy as np\n",
    "import random\n",
    "import matplotlib.pyplot as plt\n",
    "from sklearn.preprocessing import StandardScaler\n",
    "from sklearn.datasets import make_moons\n",
    "from sklearn.tree import DecisionTreeClassifier\n",
    "from sklearn.naive_bayes import GaussianNB\n",
    "from sklearn.neighbors import KNeighborsClassifier\n",
    "from sklearn.ensemble import VotingClassifier as VC\n",
    "import seaborn as sns"
   ]
  },
  {
   "cell_type": "markdown",
   "metadata": {},
   "source": [
    "### Question 1 : \n",
    "Reprenez le même dataset qu’au TP n°1 (en fixant à 0 la seed du générateur aléatoire et toujours avec le\n",
    "paramètre noise fixé à 0.3). Ce dataset est généré par make_moons et contient n = 300 points de données.\n",
    "Nous ne ferons pas ici de validation croisée"
   ]
  },
  {
   "cell_type": "code",
   "execution_count": 4,
   "metadata": {},
   "outputs": [],
   "source": [
    "#Génération du dataset :\n",
    "(Y,c) = make_moons(n_samples=300,noise=0.3, random_state=0) #random_state : seed du générateur "
   ]
  },
  {
   "cell_type": "markdown",
   "metadata": {},
   "source": [
    "Affichage du dataset :"
   ]
  },
  {
   "cell_type": "code",
   "execution_count": 6,
   "metadata": {},
   "outputs": [
    {
     "data": {
      "image/png": "[encoded data removed]",
      "text/plain": [
       "<Figure size 432x288 with 1 Axes>"
      ]
     },
     "metadata": {
      "needs_background": "light"
     },
     "output_type": "display_data"
    }
   ],
   "source": [
    "plt.scatter(Y[c==0][:,0], Y[c==0][:,1])\n",
    "plt.scatter(Y[c==1][:,0], Y[c==1][:,1],color='r')\n",
    "plt.title('dataset')\n",
    "plt.show()"
   ]
  },
  {
   "cell_type": "markdown",
   "metadata": {},
   "source": [
    "## Question 2 : \n",
    "\n",
    "Transformez le classifieur faible du TP n°1 (\"Bad Tree\") en classifieur fort grâce à l’algorithme AdaBoost.\n",
    "Chaque membre du comité est donc un arbre de décision de profondeur maximale 1 (tree stump) et est une\n",
    "instance de DecisionTreeClassifier(max_depth=1). On prendra M = 20 classifieurs dans le comité.\n",
    "Pour qu’un arbre minimise la perte pondérée par les poids $w_m^{(i)}$ d’AdaBoost, vous devrez obtenir un échantillon bootstrap à partir de vos données généré en 1). Cet échantillon s’obtient en tirant au hasard une donnée avec la probabilité: $$p_i=\\frac{w_m^{(i)}}{\\sum_{i'=1}^nw_m^{(i')}}$$\n",
    "\n",
    "\n",
    "On pourra utiliser np.random.multinomial à cette fin.\n",
    "\n",
    "Comment évolue le risque empirique sur les données d’entraînement ?\n"
   ]
  },
  {
   "cell_type": "code",
   "execution_count": 148,
   "metadata": {},
   "outputs": [],
   "source": [
    "#Classifieur faible : \n",
    "#Arbre de décision de profondeur maximale 1\n",
    "maxdepth=1\n",
    "#number of classifiers :\n",
    "M=20 \n",
    "\n",
    "def Adaboost(Y,c,maxdepth,M):\n",
    "    n=len(c)\n",
    "    weights=np.concatenate((np.array([[1/n]*n]), np.zeros((M,n))),axis=0)\n",
    "    alpha=[]\n",
    "    epsilon=[]\n",
    "    for k in range(1, M+1):\n",
    "        #Sampler un dataset :\n",
    "        sum_weights=np.sum(weights[k-1])\n",
    "        pvals=[(weights[k-1][i])/sum_weights for i in range(n)]\n",
    "        \n",
    "        print(np.sum(pvals))\n",
    "        \n",
    "        #Il faut prendre la taille = 4*n\n",
    "        Dboost=np.random.multinomial(n=n,pvals=pvals,size=4).reshape(4*n) \n",
    "        Yboost=np.array([Y[i] for i in Dboost]).reshape(4*n,2)\n",
    "        cboost=[c[i] for i in Dboost]\n",
    "        #On défnit l'arbre :\n",
    "        DTC = DecisionTreeClassifier(max_depth=maxdepth)\n",
    "        #entrainer l'arbre arbre :\n",
    "        DTC.fit(Yboost,cboost)\n",
    "        #epsilon:\n",
    "        epsilon.append(DTC.score(Yboost,cboost))\n",
    "        #alpha:\n",
    "        alpha=np.log((1-epsilon[k-1])/epsilon[k-1])\n",
    "        #Mise à jour du poids : \n",
    "        c_pred=DTC.predict(Yboost)\n",
    "        for i in range(n):\n",
    "            weights[k][i]=(weights[k-1][i])*np.exp(-0.5*alpha*(2*cboost[i]-1)*(2*c_pred[i]-1))\n",
    "    return epsilon"
   ]
  },
  {
   "cell_type": "markdown",
   "metadata": {},
   "source": [
    "Plotting the error rate :"
   ]
  },
  {
   "cell_type": "code",
   "execution_count": 149,
   "metadata": {},
   "outputs": [
    {
     "name": "stdout",
     "output_type": "stream",
     "text": [
      "1.0\n",
      "nan\n"
     ]
    },
    {
     "name": "stderr",
     "output_type": "stream",
     "text": [
      "C:\\Users\\adrie\\Anaconda3\\lib\\site-packages\\ipykernel_launcher.py:30: RuntimeWarning: divide by zero encountered in log\n",
      "C:\\Users\\adrie\\Anaconda3\\lib\\site-packages\\ipykernel_launcher.py:15: RuntimeWarning: invalid value encountered in double_scalars\n",
      "  from ipykernel import kernelapp as app\n",
      "C:\\Users\\adrie\\Anaconda3\\lib\\site-packages\\ipykernel_launcher.py:20: RuntimeWarning: invalid value encountered in greater_equal\n"
     ]
    },
    {
     "ename": "ValueError",
     "evalue": "pvals < 0, pvals > 1 or pvals contains NaNs",
     "output_type": "error",
     "traceback": [
      "\u001b[1;31m---------------------------------------------------------------------------\u001b[0m",
      "\u001b[1;31mValueError\u001b[0m                                Traceback (most recent call last)",
      "\u001b[1;32m<ipython-input-149-c9e12638c718>\u001b[0m in \u001b[0;36m<module>\u001b[1;34m\u001b[0m\n\u001b[0;32m      1\u001b[0m \u001b[0mmaxdepth\u001b[0m\u001b[1;33m=\u001b[0m\u001b[1;36m1\u001b[0m\u001b[1;33m\u001b[0m\u001b[1;33m\u001b[0m\u001b[0m\n\u001b[0;32m      2\u001b[0m \u001b[0mM\u001b[0m\u001b[1;33m=\u001b[0m\u001b[1;36m20\u001b[0m\u001b[1;33m\u001b[0m\u001b[1;33m\u001b[0m\u001b[0m\n\u001b[1;32m----> 3\u001b[1;33m \u001b[0mepsilon\u001b[0m \u001b[1;33m=\u001b[0m \u001b[0mAdaboost\u001b[0m\u001b[1;33m(\u001b[0m\u001b[0mY\u001b[0m\u001b[1;33m,\u001b[0m\u001b[0mc\u001b[0m\u001b[1;33m,\u001b[0m\u001b[0mmaxdepth\u001b[0m\u001b[1;33m,\u001b[0m\u001b[0mM\u001b[0m\u001b[1;33m)\u001b[0m\u001b[1;33m\u001b[0m\u001b[1;33m\u001b[0m\u001b[0m\n\u001b[0m",
      "\u001b[1;32m<ipython-input-148-c14ac6ae9fdd>\u001b[0m in \u001b[0;36mAdaboost\u001b[1;34m(Y, c, maxdepth, M)\u001b[0m\n\u001b[0;32m     18\u001b[0m \u001b[1;33m\u001b[0m\u001b[0m\n\u001b[0;32m     19\u001b[0m         \u001b[1;31m#Il faut prendre la taille = 4*n\u001b[0m\u001b[1;33m\u001b[0m\u001b[1;33m\u001b[0m\u001b[1;33m\u001b[0m\u001b[0m\n\u001b[1;32m---> 20\u001b[1;33m         \u001b[0mDboost\u001b[0m\u001b[1;33m=\u001b[0m\u001b[0mnp\u001b[0m\u001b[1;33m.\u001b[0m\u001b[0mrandom\u001b[0m\u001b[1;33m.\u001b[0m\u001b[0mmultinomial\u001b[0m\u001b[1;33m(\u001b[0m\u001b[0mn\u001b[0m\u001b[1;33m=\u001b[0m\u001b[0mn\u001b[0m\u001b[1;33m,\u001b[0m\u001b[0mpvals\u001b[0m\u001b[1;33m=\u001b[0m\u001b[0mpvals\u001b[0m\u001b[1;33m,\u001b[0m\u001b[0msize\u001b[0m\u001b[1;33m=\u001b[0m\u001b[1;36m4\u001b[0m\u001b[1;33m)\u001b[0m\u001b[1;33m.\u001b[0m\u001b[0mreshape\u001b[0m\u001b[1;33m(\u001b[0m\u001b[1;36m4\u001b[0m\u001b[1;33m*\u001b[0m\u001b[0mn\u001b[0m\u001b[1;33m)\u001b[0m\u001b[1;33m\u001b[0m\u001b[1;33m\u001b[0m\u001b[0m\n\u001b[0m\u001b[0;32m     21\u001b[0m         \u001b[0mYboost\u001b[0m\u001b[1;33m=\u001b[0m\u001b[0mnp\u001b[0m\u001b[1;33m.\u001b[0m\u001b[0marray\u001b[0m\u001b[1;33m(\u001b[0m\u001b[1;33m[\u001b[0m\u001b[0mY\u001b[0m\u001b[1;33m[\u001b[0m\u001b[0mi\u001b[0m\u001b[1;33m]\u001b[0m \u001b[1;32mfor\u001b[0m \u001b[0mi\u001b[0m \u001b[1;32min\u001b[0m \u001b[0mDboost\u001b[0m\u001b[1;33m]\u001b[0m\u001b[1;33m)\u001b[0m\u001b[1;33m.\u001b[0m\u001b[0mreshape\u001b[0m\u001b[1;33m(\u001b[0m\u001b[1;36m4\u001b[0m\u001b[1;33m*\u001b[0m\u001b[0mn\u001b[0m\u001b[1;33m,\u001b[0m\u001b[1;36m2\u001b[0m\u001b[1;33m)\u001b[0m\u001b[1;33m\u001b[0m\u001b[1;33m\u001b[0m\u001b[0m\n\u001b[0;32m     22\u001b[0m         \u001b[0mcboost\u001b[0m\u001b[1;33m=\u001b[0m\u001b[1;33m[\u001b[0m\u001b[0mc\u001b[0m\u001b[1;33m[\u001b[0m\u001b[0mi\u001b[0m\u001b[1;33m]\u001b[0m \u001b[1;32mfor\u001b[0m \u001b[0mi\u001b[0m \u001b[1;32min\u001b[0m \u001b[0mDboost\u001b[0m\u001b[1;33m]\u001b[0m\u001b[1;33m\u001b[0m\u001b[1;33m\u001b[0m\u001b[0m\n",
      "\u001b[1;32mmtrand.pyx\u001b[0m in \u001b[0;36mnumpy.random.mtrand.RandomState.multinomial\u001b[1;34m()\u001b[0m\n",
      "\u001b[1;32mcommon.pyx\u001b[0m in \u001b[0;36mnumpy.random.common.check_array_constraint\u001b[1;34m()\u001b[0m\n",
      "\u001b[1;31mValueError\u001b[0m: pvals < 0, pvals > 1 or pvals contains NaNs"
     ]
    }
   ],
   "source": [
    "maxdepth=1\n",
    "M=20\n",
    "epsilon = Adaboost(Y,c,maxdepth,M)"
   ]
  },
  {
   "cell_type": "code",
   "execution_count": null,
   "metadata": {},
   "outputs": [],
   "source": [
    "plt.plot([k for k in range(0,M+1)], epsilon)\n",
    "plt.xlabel('Iteration')\n",
    "plt.ylabel('error rate')\n",
    "plt.title('Error rate with itertation :')\n",
    "plt.show()"
   ]
  },
  {
   "cell_type": "markdown",
   "metadata": {},
   "source": [
    "### Question 3 :\n",
    "\n",
    "Générez un autre dataset de même taille que précédemment mais en changeant la seed. Comment évolue le risque empirique sur ces données de test ?\n"
   ]
  },
  {
   "cell_type": "code",
   "execution_count": null,
   "metadata": {},
   "outputs": [],
   "source": []
  },
  {
   "cell_type": "markdown",
   "metadata": {},
   "source": [
    "### question 4 :\n",
    "Affichez l’évolution du comité au fil des itérations d’AdaBoost ainsi que les arbres successivement appris."
   ]
  },
  {
   "cell_type": "markdown",
   "metadata": {},
   "source": [
    "## Exercice 2 : Stacked NBCs"
   ]
  },
  {
   "cell_type": "code",
   "execution_count": null,
   "metadata": {},
   "outputs": [],
   "source": []
  },
  {
   "cell_type": "code",
   "execution_count": null,
   "metadata": {},
   "outputs": [],
   "source": []
  },
  {
   "cell_type": "code",
   "execution_count": null,
   "metadata": {},
   "outputs": [],
   "source": []
  },
  {
   "cell_type": "code",
   "execution_count": null,
   "metadata": {},
   "outputs": [],
   "source": []
  }
 ],
 "metadata": {
  "kernelspec": {
   "display_name": "Python 3",
   "language": "python",
   "name": "python3"
  },
  "language_info": {
   "codemirror_mode": {
    "name": "ipython",
    "version": 3
   },
   "file_extension": ".py",
   "mimetype": "text/x-python",
   "name": "python",
   "nbconvert_exporter": "python",
   "pygments_lexer": "ipython3",
   "version": "3.7.4"
  },
  "toc": {
   "base_numbering": 1,
   "nav_menu": {},
   "number_sections": true,
   "sideBar": true,
   "skip_h1_title": true,
   "title_cell": "Table of Contents",
   "title_sidebar": "Contents",
   "toc_cell": false,
   "toc_position": {
    "height": "calc(100% - 180px)",
    "left": "10px",
    "top": "150px",
    "width": "272.4px"
   },
   "toc_section_display": true,
   "toc_window_display": true
  }
 },
 "nbformat": 4,
 "nbformat_minor": 2
}

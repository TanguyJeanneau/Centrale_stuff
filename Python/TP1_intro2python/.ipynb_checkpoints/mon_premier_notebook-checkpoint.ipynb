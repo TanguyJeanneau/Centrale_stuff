{
 "cells": [
  {
   "cell_type": "markdown",
   "metadata": {},
   "source": [
    "** Ceci est mon premier notebook**\n",
    "\n",
    "Je vais pouvoir essayer plein de fonctionnalités. \n",
    "\n",
    "Les cellules peuvent contenir du texte au format **markdown** incluant du **latex** pour les formules comme\n",
    "$$\n",
    "f(x,y) = \\frac{\\int_0^\\infty e^{-ax} dx}{1+\\cos^2(by)}\n",
    "$$\n",
    "Elles peuvent aussi contenir du **code python** comme dans la cellule ci-dessous : (taper \"shift+entrée\" pour exécuter)"
   ]
  },
  {
   "cell_type": "code",
   "execution_count": 8,
   "metadata": {
    "collapsed": false
   },
   "outputs": [],
   "source": [
    "# Import useful packages\n",
    "from pylab import *\n",
    "import numpy as np\n",
    "\n",
    "a=4\n",
    "b=array([[1,2,3],[4,5,6]])\n",
    "c = a * b\n",
    "d = b ** a   # noter la différence entre * et **"
   ]
  },
  {
   "cell_type": "code",
   "execution_count": 9,
   "metadata": {
    "collapsed": false
   },
   "outputs": [
    {
     "name": "stdout",
     "output_type": "stream",
     "text": [
      "b =  [[1 2 3]\n",
      " [4 5 6]]\n",
      "c =  [[ 4  8 12]\n",
      " [16 20 24]]\n",
      "d =  [[   1   16   81]\n",
      " [ 256  625 1296]]\n"
     ]
    }
   ],
   "source": [
    "print('b = ',b)\n",
    "print('c = ',c)\n",
    "print('d = ',d)"
   ]
  },
  {
   "cell_type": "markdown",
   "metadata": {},
   "source": [
    "On peut aussi facilement obtenir des **figures** : "
   ]
  },
  {
   "cell_type": "code",
   "execution_count": 33,
   "metadata": {
    "collapsed": false,
    "scrolled": true
   },
   "outputs": [
    {
     "data": {
      "text/plain": [
       "<matplotlib.legend.Legend at 0x10b3aefd0>"
      ]
     },
     "execution_count": 33,
     "metadata": {},
     "output_type": "execute_result"
    },
    {
     "data": {
      "image/png": "[encoded data removed]",
      "text/plain": [
       "<matplotlib.figure.Figure at 0x10f4f36d8>"
      ]
     },
     "metadata": {},
     "output_type": "display_data"
    }
   ],
   "source": [
    "x = np.arange(0,10,0.1)\n",
    "alpha = 1;\n",
    "line_1, = plot(x,x**2*exp(-alpha*x),color='r',linewidth=2, label='belle courbe')\n",
    "xlabel('abscisse')\n",
    "ylabel('ordonnée')\n",
    "title(r'Ma figure($\\alpha$)')   # noter la présence du 'r' devant le texte => LATEX !\n",
    "legend(handles=[line_1])"
   ]
  },
  {
   "cell_type": "code",
   "execution_count": null,
   "metadata": {
    "collapsed": true
   },
   "outputs": [],
   "source": []
  }
 ],
 "metadata": {
  "kernelspec": {
   "display_name": "Python 3",
   "language": "python",
   "name": "python3"
  },
  "language_info": {
   "codemirror_mode": {
    "name": "ipython",
    "version": 3
   },
   "file_extension": ".py",
   "mimetype": "text/x-python",
   "name": "python",
   "nbconvert_exporter": "python",
   "pygments_lexer": "ipython3",
   "version": "3.6.0"
  }
 },
 "nbformat": 4,
 "nbformat_minor": 2
}

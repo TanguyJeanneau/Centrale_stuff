{
 "cells": [
  {
   "cell_type": "markdown",
   "metadata": {},
   "source": [
    "# T.P. 1: Discrete time homogeneous Markov chains\n",
    "\n",
    "## General instructions:\n",
    " - make sure the notebook you produce is properly annotated: each exercise should be introduced by a short sentence summarizing its context. Concisely answer each question from the guideline;\n",
    " - include appropriate axis labels and a relevant title to each figure reported in the notebook;\n",
    " - document any function you introduce (using docstrings), and comment your code whenever apporpriate (see, *e.g.*, [PEP 8 style recommendations](https://www.python.org/dev/peps/pep-0008/));\n",
    " - clearly structure your notebook: longer theoretical explanations should be reported in markdown cells. Do not hesitate to include LaTeX equations to improve the clarity of the document.\n",
    "---"
   ]
  },
  {
   "cell_type": "code",
   "execution_count": 6,
   "metadata": {},
   "outputs": [],
   "source": [
    "import numpy as np\n",
    "import scipy\n",
    "import seaborn as sns\n",
    "import matplotlib.pyplot as plt"
   ]
  },
  {
   "cell_type": "markdown",
   "metadata": {},
   "source": [
    " ## Exercise 1: Ehrenfest model\n",
    " Consider a system of $K = 50$ particles (labeled from 1 to $K$) evolving in a closed box. The box is divided into two compartments in contact with each other, respectively identified by an index, 0 and 1. A hole at the interface between the two compartments allows the particles to move from one compartment to the other.\n",
    "\n",
    " Particle motion is modeled as follows: at each discrete time intant $n$, one particle is chosen uniformly at random and moved from its current compartment to the other. Let $X(n)$ denote the number of particles in compartment 0 at time $n$."
   ]
  },
  {
   "cell_type": "markdown",
   "metadata": {},
   "source": [
    "1\\. Briefly justify that $\\bigl(X(n) \\bigr)_{n \\in \\mathbb{N}}$ is a Markov chain."
   ]
  },
  {
   "cell_type": "markdown",
   "metadata": {},
   "source": [
    "$\\bigl(X(n) \\bigr)_{n \\in \\mathbb{N}}$ is a Markov chain because it is a family $\\bigl(X(n) \\bigr)_{n \\in \\mathbb{N}}$ of random variables  indexed by natural numbers and satisfying the markov property : \n",
    "\n",
    "$$ P(X(n)=i_n|X(n-1)=i_{n-1},..., X(0)=i_0)=P(X(n)=i_n|X(n-1)=i_{n-1})$$"
   ]
  },
  {
   "cell_type": "markdown",
   "metadata": {},
   "source": [
    "2\\. Recall the structure of the transition matrix, and encode it in Python (without any for loop).\n",
    "\n",
    " > Hint: use the function `numpy.diag`."
   ]
  },
  {
   "cell_type": "markdown",
   "metadata": {},
   "source": [
    "The structure of the transition matrix is a matrix of $p_{i,j}$ the probability of getting from state $i$ to state $j$ at a given discrete time n.\n",
    "\n",
    "In this particular case, we can only go from one state $i$ to the state $i-1$ or $i+1$. \n",
    "At a certain time, the probability of getting from state $i$ to state $i+1$ is $p$ and the probability of getting from state $i$ to state $i-1$ is $1-p$. \n",
    "\n",
    "Therefore, the transition matrix is null, except the sub-diagonal and the upper diagonal, equal respectively to $1-p$ and $p$.\n",
    "\n",
    "Since the particle moving from one compartiment to the other is chosen uniformly at random, $p$ at the given time $n$ is equal to $\\frac{50-X(n)}{50}$."
   ]
  },
  {
   "cell_type": "markdown",
   "metadata": {},
   "source": [
    "**For example, with N=10 :**"
   ]
  },
  {
   "cell_type": "code",
   "execution_count": 110,
   "metadata": {},
   "outputs": [
    {
     "data": {
      "text/plain": [
       "<matplotlib.axes._subplots.AxesSubplot at 0x2b1d745d148>"
      ]
     },
     "execution_count": 110,
     "metadata": {},
     "output_type": "execute_result"
    },
    {
     "data": {
      "image/png": "[encoded data removed]",
      "text/plain": [
       "<Figure size 720x720 with 2 Axes>"
      ]
     },
     "metadata": {
      "needs_background": "light"
     },
     "output_type": "display_data"
    }
   ],
   "source": [
    "def create_P(K):\n",
    "    upper_diag = [(K-n)/K for n in range (0,K)]\n",
    "    lower_diag =[n/K for n in range (1,K+1)]\n",
    "    #Transition matrix P :\n",
    "    return np.diag(upper_diag, k=1) + np.diag(lower_diag, k=-1)\n",
    "K=50\n",
    "P=create_P(K)\n",
    "fig=plt.figure(figsize=(10,10))\n",
    "sns.heatmap(P)"
   ]
  },
  {
   "cell_type": "markdown",
   "metadata": {},
   "source": [
    "3\\. Numerically verify that the binomial distribution $\\mathcal{B} (K, 1/2)$ is invariant for the chain. This invariant distribution will be denoted by $\\pi$ in the rest of the exercise.\n",
    "\n",
    " > Hint: use `scipy.special.binom`."
   ]
  },
  {
   "cell_type": "code",
   "execution_count": 135,
   "metadata": {},
   "outputs": [],
   "source": [
    "def create_pi(K):\n",
    "    return np.array([scipy.special.binom(K,i)*(0.5)**i*(0.5)**(K-i) for i in range(K+1)])\n",
    "pi=create_pi(50)"
   ]
  },
  {
   "cell_type": "code",
   "execution_count": 136,
   "metadata": {},
   "outputs": [
    {
     "data": {
      "text/plain": [
       "8.740153268289626e-17"
      ]
     },
     "execution_count": 136,
     "metadata": {},
     "output_type": "execute_result"
    }
   ],
   "source": [
    "diff = np.linalg.norm(np.dot(pi, P) - pi)\n",
    "diff"
   ]
  },
  {
   "cell_type": "markdown",
   "metadata": {},
   "source": [
    "We see that the difference between $\\pi P$ and $\\pi$ is very close to zero, so $\\pi$ is indeed the invariant distribution for this chain. "
   ]
  },
  {
   "cell_type": "markdown",
   "metadata": {},
   "source": [
    "4\\. Implement a Python function `ehrenfest` simulating a trajectory of the chain for a system of N particles, of initial distribution $\\mu$. The maximum number of time steps will be controlled by an input parameter $n_\\max$.\n",
    "\n",
    " > Remarks:\n",
    " > - for conveninence, you may define the state of a particle as a boolean variable. Changing the state of a particle will thus reduce to toggling the state of the associated boolean variable;\n",
    " > - note that, for any $i \\in \\{ 1, \\dotsc , K \\}$, imposing $X(0) = i$ means that the initial probability distribution $\\mu$ is a Dirac centered in $i$."
   ]
  },
  {
   "cell_type": "code",
   "execution_count": 137,
   "metadata": {},
   "outputs": [],
   "source": [
    "def ehrenfest(N, mu, nmax):\n",
    "    \n",
    "    P=create_P(N)\n",
    "    next_step=np.random.choice(N+1, p=mu)\n",
    "    states=[next_step]\n",
    "    for i in range(nmax-1):\n",
    "        next_step=np.random.choice(N+1, p=P[next_step])\n",
    "        states.append(next_step)\n",
    "    return states"
   ]
  },
  {
   "cell_type": "markdown",
   "metadata": {},
   "source": [
    "5\\. Simulate a trajectory of the chain starting in state $0$ for $K = 100$ particles and $n_\\max = 10000$. Display the result in function of the time index $n$."
   ]
  },
  {
   "cell_type": "code",
   "execution_count": 160,
   "metadata": {},
   "outputs": [
    {
     "data": {
      "text/plain": [
       "<function matplotlib.pyplot.show(*args, **kw)>"
      ]
     },
     "execution_count": 160,
     "metadata": {},
     "output_type": "execute_result"
    },
    {
     "data": {
      "image/png": "[encoded data removed]",
      "text/plain": [
       "<Figure size 1080x360 with 1 Axes>"
      ]
     },
     "metadata": {
      "needs_background": "light"
     },
     "output_type": "display_data"
    }
   ],
   "source": [
    "K=100\n",
    "nmax=10000\n",
    "mu=[1]+[0]*K\n",
    "states=ehrenfest(K, mu, nmax)\n",
    "fig=plt.figure(figsize=(15,5))\n",
    "plt.plot(range(nmax), states, label='succession of states')\n",
    "plt.legend()\n",
    "plt.show"
   ]
  },
  {
   "cell_type": "markdown",
   "metadata": {},
   "source": [
    "6\\. Compare the empirical histogram of the trajectory obtained in 5. to the theoretical limit distribution $\\pi$. What do you observe?"
   ]
  },
  {
   "cell_type": "code",
   "execution_count": 161,
   "metadata": {},
   "outputs": [
    {
     "data": {
      "image/png": "[encoded data removed]",
      "text/plain": [
       "<Figure size 1080x360 with 1 Axes>"
      ]
     },
     "metadata": {
      "needs_background": "light"
     },
     "output_type": "display_data"
    }
   ],
   "source": [
    "pi=create_pi(K)\n",
    "fig=plt.figure(figsize=(15,5))\n",
    "plt.hist(states,bins=70, normed=True)\n",
    "plt.plot(range(K+1), pi, color='r')\n",
    "plt.show()"
   ]
  },
  {
   "cell_type": "markdown",
   "metadata": {},
   "source": [
    "7\\. Compute $(\\mu_n)_{1 \\leq n \\leq n_{\\max}}$, where $\\mu_n \\triangleq \\mu P^n$ is the probability distribution of $X$ at time $n$ (*i.e.*, $\\mu_n = ( \\mathbb{P}[X(n) = k]  )_{1 \\leq k \\leq K} \\in [0, 1]^K$)."
   ]
  },
  {
   "cell_type": "code",
   "execution_count": 177,
   "metadata": {},
   "outputs": [],
   "source": [
    "#Number of particles : \n",
    "K=100\n",
    "N=1000\n",
    "\n",
    "P=np.array(create_P(K))\n",
    "mu=np.array([1]+[0]*K)\n",
    "\n",
    "P_n=np.array(mu.dot(P))\n",
    "mu_n=np.array([P_n])\n",
    "\n",
    "for n in range(N-1):\n",
    "    P_n = P_n.dot(P)\n",
    "    mu_n=np.append(mu_n, [P_n],axis=0)"
   ]
  },
  {
   "cell_type": "code",
   "execution_count": 178,
   "metadata": {},
   "outputs": [
    {
     "data": {
      "image/png": "[encoded data removed]",
      "text/plain": [
       "<Figure size 720x360 with 1 Axes>"
      ]
     },
     "metadata": {
      "needs_background": "light"
     },
     "output_type": "display_data"
    }
   ],
   "source": [
    "fig =plt.figure(figsize=(10,5))\n",
    "plt.bar(range(K+1), mu_n[-1])\n",
    "plt.show()"
   ]
  },
  {
   "cell_type": "markdown",
   "metadata": {},
   "source": [
    "8\\. Plot the function $n \\mapsto \\Vert \\mu_n - \\pi \\Vert_1$, where $\\Vert \\cdot \\Vert_1$ is the $\\ell_1$ norm. What does this curve illustrate?"
   ]
  },
  {
   "cell_type": "code",
   "execution_count": 181,
   "metadata": {},
   "outputs": [
    {
     "data": {
      "text/plain": [
       "[<matplotlib.lines.Line2D at 0x2b1d9903508>]"
      ]
     },
     "execution_count": 181,
     "metadata": {},
     "output_type": "execute_result"
    },
    {
     "data": {
      "image/png": "[encoded data removed]",
      "text/plain": [
       "<Figure size 432x288 with 1 Axes>"
      ]
     },
     "metadata": {
      "needs_background": "light"
     },
     "output_type": "display_data"
    }
   ],
   "source": [
    "pi=create_pi(K)\n",
    "normes=np.linalg.norm((mu_n-pi),ord=1,axis=1)\n",
    "plt.plot(range(N), normes)"
   ]
  },
  {
   "cell_type": "markdown",
   "metadata": {},
   "source": [
    "We notice that the norm 1 converges towards 1. It might seem surprising at first glance, beccause we couls expect that mu_n -> pi when n -> infinity. However, when having a detailed look at mu_n we understand where this is coming from. AT each iteration, the state can be either incremented or decremented. This means that, when starting at X(0) = 0, the even indexes i can only be reached at even times n, and the odd indexes i can only be reached at odd times n. \n",
    "\n",
    "We can notice that by plotting a given Mu_n for an even n, then for an odd n, then averaging the two to get a smooth gaussian curve. Me can say that (mu_2k + mu_2k+1)/2 - pi -> 0"
   ]
  },
  {
   "cell_type": "markdown",
   "metadata": {},
   "source": [
    " 9.  a) Modify the function defined in 1. so that it returns the return time to state 0, defined as $T_{0,0} = \\inf \\bigl\\{ n > 0, X(n) = 0 \\mid X(0) = 0 \\bigr\\}$."
   ]
  },
  {
   "cell_type": "code",
   "execution_count": null,
   "metadata": {},
   "outputs": [],
   "source": []
  },
  {
   "cell_type": "markdown",
   "metadata": {},
   "source": [
    "   b) Run several chains (about 10, ideally in parallel) and compare the empirical average of $T_{0,0}$ to $\\pi(0)$.\n",
    " > Hint: a good tutorial showing how to run functions in parallel in Python is available [here](https://www.machinelearningplus.com/python/parallel-processing-python/)."
   ]
  },
  {
   "cell_type": "code",
   "execution_count": null,
   "metadata": {},
   "outputs": [],
   "source": []
  },
  {
   "cell_type": "markdown",
   "metadata": {},
   "source": [
    "   c) Based on the results obtained in TD. 1 Exercise 3, comment on the possibility of numerically observing the chain returning to its initial state."
   ]
  },
  {
   "cell_type": "markdown",
   "metadata": {},
   "source": [
    "..."
   ]
  },
  {
   "cell_type": "markdown",
   "metadata": {},
   "source": [
    " ## Exercise 2: Simulation of a discrete time homogeneous Markov chain.\n",
    " Let $\\bigl( X(n) \\bigr)_{n \\in \\mathbb{N}}$ be a discrete time homogeneous Markov chain defined by the following initial distribution $\\mu$ and transition matrix $P$\n",
    "\n",
    "\\begin{equation}\n",
    "     \\mu = [0, 1, 0, 0, 0, 0], \n",
    "     %\n",
    "     \\quad\n",
    "     %\n",
    "     P = \\begin{pmatrix}\n",
    "       0   &1/2 &0  &0   &0   &0   \\\\\n",
    "\t \t1/3 &0   &0  &1/3 &1/3 &0   \\\\\n",
    "       0   &0   &0  &0   &0   &1/2 \\\\\n",
    "       0   &1/2 &0  &0   &1/2 &0   \\\\\n",
    "       0   &1/3 &0  &1/3 &0   &1/3 \\\\\n",
    "       0   &1/2 &0  &1/2 &0   &0\n",
    "     \\end{pmatrix}.\n",
    " \\end{equation}"
   ]
  },
  {
   "cell_type": "markdown",
   "metadata": {},
   "source": [
    "1\\. Write a function `simulate_dthmc` simulating the trajectory of the Markov chain $\\bigl( X(n) \\bigr)_{n \\in \\mathbb{N}}$ for $n_{\\max}$ time steps. The signature of the function should include the following elements:\n",
    "   - list of inputs: transition matrix $P$, initial distribution $\\mu$, number of time steps $n_{\\max}$;\n",
    "   - output: array of lenght $n_{\\max}$ representing the trajectory.\n",
    "   "
   ]
  },
  {
   "cell_type": "code",
   "execution_count": null,
   "metadata": {},
   "outputs": [],
   "source": []
  },
  {
   "cell_type": "markdown",
   "metadata": {},
   "source": [
    "2\\. Simulate a trajectory of the chain for $n_{\\max} = 2000$ starting from $X(0) = 1$. Plot the histogram of the states visited by the chain.\n",
    " "
   ]
  },
  {
   "cell_type": "code",
   "execution_count": null,
   "metadata": {},
   "outputs": [],
   "source": []
  },
  {
   "cell_type": "markdown",
   "metadata": {},
   "source": [
    "3\\. Determine numerically the invariant distribution $\\boldsymbol{\\pi}$ of the chain (*e.g.*, based on an eigendecomposition [numpy.linalg.eig](https://docs.scipy.org/doc/numpy/reference/generated/numpy.linalg.eig.html)). Compare it to the histogram obtained in 2.\n",
    " "
   ]
  },
  {
   "cell_type": "code",
   "execution_count": null,
   "metadata": {},
   "outputs": [],
   "source": []
  },
  {
   "cell_type": "markdown",
   "metadata": {},
   "source": [
    "4\\. a) Compute $\\mu_n \\triangleq \\mu P^n$, the probability distribution of $X(n)$. What is the limit of $\\mu_n$ as $n$ goes to $+\\infty$?\n"
   ]
  },
  {
   "cell_type": "code",
   "execution_count": null,
   "metadata": {},
   "outputs": [],
   "source": []
  },
  {
   "cell_type": "markdown",
   "metadata": {},
   "source": [
    "  b) Display on the same graph the curves $n \\mapsto \\mu_n(i)$ for $i = 1, \\dotsc , 6$, and compare with $\\pi$. What do you observe?\n",
    "  "
   ]
  },
  {
   "cell_type": "code",
   "execution_count": null,
   "metadata": {},
   "outputs": [],
   "source": []
  },
  {
   "cell_type": "markdown",
   "metadata": {},
   "source": [
    "  c) Display on another graph the function $n \\mapsto \\Vert \\mu_n - \\pi \\Vert_1$, where $\\Vert \\cdot \\Vert_1$ is the $\\ell_1$ norm. What does this curve illustrate?\n",
    " "
   ]
  },
  {
   "cell_type": "code",
   "execution_count": null,
   "metadata": {},
   "outputs": [],
   "source": []
  },
  {
   "cell_type": "markdown",
   "metadata": {},
   "source": [
    "5\\. For each state $i \\in \\{1, \\dotsc, 5 \\}$, simulate 1000 trajectories starting from the state $i$ until the return time to $i$. For each state, compute the (empirical) average return time. Compare with its theoretical value.\n",
    " "
   ]
  },
  {
   "cell_type": "code",
   "execution_count": null,
   "metadata": {},
   "outputs": [],
   "source": []
  },
  {
   "cell_type": "markdown",
   "metadata": {},
   "source": [
    " ## Exercise 3: Random walk on $\\mathbb{Z}$\n",
    "\n",
    " Consider the random walk on $\\mathbb{Z}$ introduced in T.D. 2 Exercise 2 with $0 < p < 1$. For the rest of this exercise, the chain is supposed to start from state 0."
   ]
  },
  {
   "cell_type": "markdown",
   "metadata": {},
   "source": [
    "1\\. Is the chain irreducible?\n",
    " "
   ]
  },
  {
   "cell_type": "markdown",
   "metadata": {},
   "source": [
    "..."
   ]
  },
  {
   "cell_type": "markdown",
   "metadata": {},
   "source": [
    "2\\. Implement a function `random_walk_z` simulating the behaviour of the random walk for $n_{\\max}$ steps. \n",
    " "
   ]
  },
  {
   "cell_type": "code",
   "execution_count": null,
   "metadata": {},
   "outputs": [],
   "source": []
  },
  {
   "cell_type": "markdown",
   "metadata": {},
   "source": [
    "3\\. Modify the function `random_walk_z` such that it further returns:\n",
    "   - both the number of times the chain is returned to the initial state;\n",
    "   - the largest state reached by the chain.\n",
    "   "
   ]
  },
  {
   "cell_type": "code",
   "execution_count": null,
   "metadata": {},
   "outputs": [],
   "source": []
  },
  {
   "cell_type": "markdown",
   "metadata": {},
   "source": [
    "4\\. Simulate the random walk with $p = 3/4$, and display the histogram of the states reached by the chain."
   ]
  },
  {
   "cell_type": "code",
   "execution_count": null,
   "metadata": {},
   "outputs": [],
   "source": []
  }
 ],
 "metadata": {
  "file_extension": ".py",
  "kernelspec": {
   "display_name": "Python 3",
   "language": "python",
   "name": "python3"
  },
  "language_info": {
   "codemirror_mode": {
    "name": "ipython",
    "version": 3
   },
   "file_extension": ".py",
   "mimetype": "text/x-python",
   "name": "python",
   "nbconvert_exporter": "python",
   "pygments_lexer": "ipython3",
   "version": "3.7.4"
  },
  "mimetype": "text/x-python",
  "name": "python",
  "npconvert_exporter": "python",
  "pygments_lexer": "ipython3",
  "toc": {
   "base_numbering": 1,
   "nav_menu": {},
   "number_sections": true,
   "sideBar": true,
   "skip_h1_title": true,
   "title_cell": "Table of Contents",
   "title_sidebar": "Contents",
   "toc_cell": false,
   "toc_position": {
    "height": "calc(100% - 180px)",
    "left": "10px",
    "top": "150px",
    "width": "313.4px"
   },
   "toc_section_display": true,
   "toc_window_display": true
  },
  "version": 3
 },
 "nbformat": 4,
 "nbformat_minor": 4
}

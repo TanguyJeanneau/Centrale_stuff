{
 "cells": [
  {
   "cell_type": "markdown",
   "metadata": {},
   "source": [
    "# Optimisation\n",
    "## Travaux Pratiques - Optimisation sans contrainte"
   ]
  },
  {
   "cell_type": "markdown",
   "metadata": {},
   "source": [
    "On souhaite optimiser les fonctions suivantes : \n",
    "\n",
    "\\begin{align*}\n",
    "    f(x_1,x_2)=(x_1^3-x_2)^2+2(x_2-x_1)^4\n",
    "    \\\\\n",
    "    g(x_1,x_2)=3x_1^2+8x_1x_2+9x_2^2+3x_1-4x_2\n",
    "\\end{align*}"
   ]
  },
  {
   "cell_type": "markdown",
   "metadata": {},
   "source": [
    "Leur gradient sont respectivement : "
   ]
  },
  {
   "cell_type": "markdown",
   "metadata": {},
   "source": [
    "\\begin{align*}\n",
    "    \\nabla f(x_1,x_2)=\n",
    "    \\\\\n",
    "    \\nabla g(x_1,x_2)=\n",
    "    \\begin{pmatrix}\n",
    " 6x_1+8x_2+3 \\\\\n",
    "8x_1+18x_2-4\n",
    "\\end{pmatrix}\n",
    "\\end{align*}"
   ]
  },
  {
   "cell_type": "markdown",
   "metadata": {},
   "source": [
    "Leur matrice hessienne sont :"
   ]
  },
  {
   "cell_type": "markdown",
   "metadata": {},
   "source": [
    "\\begin{align*}\n",
    "\\nabla^2 f(x_1,x_2)=\n",
    "    \\begin{pmatrix}30x_1^4-12_x_1x_2+24(x_2-x_1)^2&-6x_1^2-24(x_2-x_1)^2 \\\\ -6x_1^2-24(x_2-x_1)^2&2+24(x_2-x_1)^2 \\end{pmatrix}\n",
    "\\end{align*}"
   ]
  },
  {
   "cell_type": "markdown",
   "metadata": {},
   "source": [
    "\\begin{align*}    \n",
    "    \\nabla^2 g(x_1,x_2)=\\begin{pmatrix}6&8\\\\8&18\\end{pmatrix}\n",
    "\\end{align*}"
   ]
  },
  {
   "cell_type": "code",
   "execution_count": 13,
   "metadata": {},
   "outputs": [],
   "source": [
    "import numpy as np\n",
    "import matplotlib.pyplot as plt\n",
    "import time"
   ]
  },
  {
   "cell_type": "code",
   "execution_count": null,
   "metadata": {
    "collapsed": true
   },
   "outputs": [],
   "source": []
  },
  {
   "cell_type": "code",
   "execution_count": null,
   "metadata": {
    "collapsed": true
   },
   "outputs": [],
   "source": []
  },
  {
   "cell_type": "code",
   "execution_count": null,
   "metadata": {
    "collapsed": true
   },
   "outputs": [],
   "source": []
  },
  {
   "cell_type": "markdown",
   "metadata": {},
   "source": [
    "## 1- Implémentation de la méthode de gradient\n",
    "\n",
    "Algorithme de gradient générique : \n",
    "\n",
    "Construction d'une suite telle que \n",
    "\n",
    "\n",
    "\\begin{align*}\n",
    "    x_{k+1} = x_k - \\alpha_k D_k \\nabla f(x_k)\n",
    "\\end{align*}\n",
    "\n",
    "où $\\alpha_k$est tel que : "
   ]
  },
  {
   "cell_type": "markdown",
   "metadata": {},
   "source": [
    "\\begin{align*}\n",
    "    f(x_k-\\alpha_kD_k\\nabla f(x_k)) = min-{\\alpha>=0} (f(x_k-\\alpha D_k \\nabla f(x_k))\n",
    "\\end{align*}\n",
    "\n",
    "\n",
    "et $D_k$ est une matrice définie positive \n",
    "\n",
    "- ### à pas constant :  "
   ]
  },
  {
   "cell_type": "code",
   "execution_count": 14,
   "metadata": {},
   "outputs": [],
   "source": [
    "def f(x):\n",
    "    x1, x2 = x[0], x[1]\n",
    "    return (x1**3 - x2)**2 + 2*(x2 - x1)**4\n",
    "\n",
    "def g(x):\n",
    "    x1, x2 = x[0], x[1]\n",
    "    return 3*x1**2 + 8*x1*x2 + 9*x2**2 + 3*x1 - 4*x2\n",
    "\n",
    "def gradf(x):\n",
    "    x1, x2 = x[0], x[1]\n",
    "    y1 = 6*x1**5 - 6*x1**2*x2 - 8*(x2 - x1)**3\n",
    "    y2 = -2*x1**3 + 2*x2 + 8*(x2 - x1)**3\n",
    "    return np.array([y1, y2])\n",
    "\n",
    "def gradg(x):\n",
    "    x1, x2 = x[0], x[1]\n",
    "    y1 = 6*x1 + 8*x2 + 3\n",
    "    y2 = 8*x1 - 18*x2 - 4\n",
    "    return np.array([y1, y2])"
   ]
  },
  {
   "cell_type": "code",
   "execution_count": 33,
   "metadata": {},
   "outputs": [],
   "source": [
    "#Définition du pas alpha : \n",
    "alpha = 0.1\n",
    "\n",
    "#Pc = Pas constant\n",
    "\n",
    "def Gradient(f, gradf, x, PC=True, alpha=0.1, epsilon=10**(-7), stepmax=100):\n",
    "    Arret=False\n",
    "    k=0\n",
    "    X1 = [x[0]]\n",
    "    X2 = [x[1]]\n",
    "    \n",
    "    while(Arret==False) and (k < stepmax):\n",
    "        \"\"\"On vérifie si le pas est constant ou non, si le pas n'est pas constant, \n",
    "        on le calcule grâce à optimize.line_search\"\"\"\n",
    "        \n",
    "        if not(PC):\n",
    "            alpha = optimize.line_search(f,gradf,x)\n",
    "\n",
    "        #On calcul x_k+1 à partir de x_k grâce à la formule : \n",
    "        x = x - alpha*gradf(x)\n",
    "        \n",
    "        X1.append(x[0])\n",
    "        X2.append(x[1])\n",
    "        if np.linalg.norm(gradf(x)) < epsilon:\n",
    "            Arret=True    \n",
    "        else:\n",
    "            k+=1\n",
    "    print('{} iterations'.format(k))\n",
    "    return X1, X2, x"
   ]
  },
  {
   "cell_type": "code",
   "execution_count": 38,
   "metadata": {},
   "outputs": [
    {
     "name": "stdout",
     "output_type": "stream",
     "text": [
      "1000 iterations\n"
     ]
    },
    {
     "data": {
      "text/plain": [
       "[]"
      ]
     },
     "execution_count": 38,
     "metadata": {},
     "output_type": "execute_result"
    },
    {
     "data": {
      "image/png": "[encoded data removed]",
      "text/plain": [
       "<Figure size 432x288 with 1 Axes>"
      ]
     },
     "metadata": {
      "needs_background": "light"
     },
     "output_type": "display_data"
    }
   ],
   "source": [
    "X1, X2, x = Gradient(f, gradf, [2, 2], alpha=0.01, stepmax=1000)\n",
    "plt.plot(X1, X2)\n",
    "plt.plot()"
   ]
  },
  {
   "cell_type": "code",
   "execution_count": 37,
   "metadata": {},
   "outputs": [
    {
     "data": {
      "text/plain": [
       "[]"
      ]
     },
     "execution_count": 37,
     "metadata": {},
     "output_type": "execute_result"
    },
    {
     "data": {
      "image/png": "[encoded data removed]",
      "text/plain": [
       "<Figure size 432x288 with 1 Axes>"
      ]
     },
     "metadata": {
      "needs_background": "light"
     },
     "output_type": "display_data"
    }
   ],
   "source": [
    "A = np.linspace(0, 3, 100)\n",
    "B = np.linspace(0, 3, 100)\n"
   ]
  },
  {
   "cell_type": "code",
   "execution_count": 2,
   "metadata": {},
   "outputs": [],
   "source": [
    "def compare_fncts(x0, nb_iter=3):\n",
    "    print('Gradient à pas constants')\n",
    "    t1 = time.time()\n",
    "    for i in range(nb_iter):\n",
    "        x_gpc = 0 # A remplir\n",
    "    t2 = time.time()\n",
    "    print('    x optimal = {0:.4f}\\n    en {1:.2f}ms'.format(x_gpc, (t1-t2)/nb_iter*1e3))\n",
    "    \n",
    "    print('Gradient à pas variables')\n",
    "    t1 = time.time()\n",
    "    for i in range(nb_iter):\n",
    "        x_gpv = 0 # A remplir\n",
    "    t2 = time.time()\n",
    "    print('    x optimal = {0:.4f}\\n    en {1:.2f}ms'.format(x_gpv, (t1-t2)/nb_iter*1e3))\n",
    "    \n",
    "    print('Algorithme de Newton')\n",
    "    t1 = time.time()\n",
    "    for i in range(nb_iter):\n",
    "        x_new = 0 # A remplir\n",
    "    t2 = time.time()\n",
    "    print('    x optimal = {0:.4f}\\n    en {1:.2f}ms'.format(x_gpc, (t1-t2)/nb_iter*1e3))"
   ]
  },
  {
   "cell_type": "code",
   "execution_count": null,
   "metadata": {},
   "outputs": [],
   "source": []
  }
 ],
 "metadata": {
  "kernelspec": {
   "display_name": "Python 3",
   "language": "python",
   "name": "python3"
  },
  "language_info": {
   "codemirror_mode": {
    "name": "ipython",
    "version": 3
   },
   "file_extension": ".py",
   "mimetype": "text/x-python",
   "name": "python",
   "nbconvert_exporter": "python",
   "pygments_lexer": "ipython3",
   "version": "3.6.8"
  }
 },
 "nbformat": 4,
 "nbformat_minor": 2
}

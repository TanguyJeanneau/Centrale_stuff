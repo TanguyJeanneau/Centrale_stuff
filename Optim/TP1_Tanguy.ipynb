{
 "cells": [
  {
   "cell_type": "code",
   "execution_count": 3,
   "metadata": {},
   "outputs": [],
   "source": [
    "import scipy as sp\n",
    "import numpy as np\n",
    "import time"
   ]
  },
  {
   "cell_type": "code",
   "execution_count": 4,
   "metadata": {},
   "outputs": [],
   "source": [
    "def f(x1, x2):\n",
    "    return (x1**3 - x2)**2 + 2*(x2 - x1)**4\n",
    "\n",
    "def g(x1, x2):\n",
    "    return 3*x1**2 + 8*x1*x2 + 9*x2**2 + 3*x1 - 4*x2\n",
    "\n",
    "def gradf(x1, x2):\n",
    "    y1 = 6*x1**5 - 6*x1**2*x2 - 8*(x2 - x1)**3\n",
    "    y2 = -2*x1**3 + 2*x2 + 8*(x2 - x1)**3\n",
    "    return y1, y2\n",
    "\n",
    "def gradg(x1, x2):\n",
    "    y1 = 6*x1 + 8*x2 + 3\n",
    "    y2 = 8*x1 - 18*x2 - 4\n",
    "    return y1, y2"
   ]
  },
  {
   "cell_type": "code",
   "execution_count": 5,
   "metadata": {},
   "outputs": [],
   "source": [
    "def compare_fncts(x0, nb_iter=10):\n",
    "    print('Gradient à pas constants')\n",
    "    t1 = time.time()\n",
    "    x_gpc = 0 # A remplir\n",
    "    t2 = time.time()\n",
    "    print('    x optimal = {0:.4f}\\n    en {1:.2f}ms'.format(x_gpc, (t1-t2)*1e3))\n",
    "    \n",
    "    print('Gradient à pas variables')\n",
    "    t1 = time.time()\n",
    "    x_gpv = 0 # A remplir\n",
    "    t2 = time.time()\n",
    "    print('    x optimal = {0:.4f}\\n    en {1:.2f}ms'.format(x_gpv, (t1-t2)*1e3))\n",
    "    \n",
    "    print('Algorithme de Newton')\n",
    "    t1 = time.time()\n",
    "    x_new = 0 # A remplir\n",
    "    t2 = time.time()\n",
    "    print('    x optimal = {0:.4f}\\n    en {1:.2f}ms'.format(x_gpc, (t1-t2)*1e3))"
   ]
  }
 ],
 "metadata": {
  "kernelspec": {
   "display_name": "Python 3",
   "language": "python",
   "name": "python3"
  },
  "language_info": {
   "codemirror_mode": {
    "name": "ipython",
    "version": 3
   },
   "file_extension": ".py",
   "mimetype": "text/x-python",
   "name": "python",
   "nbconvert_exporter": "python",
   "pygments_lexer": "ipython3",
   "version": "3.6.8"
  }
 },
 "nbformat": 4,
 "nbformat_minor": 2
}

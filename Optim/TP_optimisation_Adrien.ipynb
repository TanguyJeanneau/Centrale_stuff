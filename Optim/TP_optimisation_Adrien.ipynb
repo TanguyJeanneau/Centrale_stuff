{
 "cells": [
  {
   "cell_type": "markdown",
   "metadata": {},
   "source": [
    "# Optimisation\n",
    "## Travaux Pratiques - Optimisation sans contrainte"
   ]
  },
  {
   "cell_type": "markdown",
   "metadata": {},
   "source": [
    "On souhaite optimiser les fonctions suivantes : \n",
    "\n",
    "\\begin{align*}\n",
    "    f(x_1,x_2)=(x_1^3-x_2)^2+2(x_2-x_1)^4\n",
    "    \\\\\n",
    "    g(x_1,x_2)=3x_1^2+8x_1x_2+9x_2^2+3x_1-4x_2\n",
    "\\end{align*}"
   ]
  },
  {
   "cell_type": "markdown",
   "metadata": {},
   "source": [
    "Leur gradient sont respectivement : "
   ]
  },
  {
   "cell_type": "markdown",
   "metadata": {},
   "source": [
    "\\begin{align*}\n",
    "    \\nabla f(x_1,x_2)=\n",
    "    \\\\\n",
    "    \\nabla g(x_1,x_2)=\n",
    "    \\begin{pmatrix}\n",
    " 6x_1+8x_2+3 \\\\\n",
    "8x_1+18x_2-4\n",
    "\\end{pmatrix}\n",
    "\\end{align*}"
   ]
  },
  {
   "cell_type": "markdown",
   "metadata": {},
   "source": [
    "Leur matrice hessienne sont :"
   ]
  },
  {
   "cell_type": "markdown",
   "metadata": {},
   "source": [
    "\\begin{align*}\n",
    "\\nabla^2 f(x_1,x_2)=\n",
    "    \\begin{pmatrix}30x_1^4-12_x_1x_2+24(x_2-x_1)^2&-6x_1^2-24(x_2-x_1)^2 \\\\ -6x_1^2-24(x_2-x_1)^2&2+24(x_2-x_1)^2 \\end{pmatrix}\n",
    "\\end{align*}"
   ]
  },
  {
   "cell_type": "markdown",
   "metadata": {},
   "source": [
    "\\begin{align*}    \n",
    "    \\nabla^2 g(x_1,x_2)=\\begin{pmatrix}6&8\\\\8&18\\end{pmatrix}\n",
    "\\end{align*}"
   ]
  },
  {
   "cell_type": "code",
   "execution_count": 8,
   "metadata": {
    "collapsed": true
   },
   "outputs": [],
   "source": [
    "import numpy as np\n",
    "import matplotlib.pyplot as plt"
   ]
  },
  {
   "cell_type": "code",
   "execution_count": null,
   "metadata": {
    "collapsed": true
   },
   "outputs": [],
   "source": []
  },
  {
   "cell_type": "code",
   "execution_count": null,
   "metadata": {
    "collapsed": true
   },
   "outputs": [],
   "source": []
  },
  {
   "cell_type": "code",
   "execution_count": null,
   "metadata": {
    "collapsed": true
   },
   "outputs": [],
   "source": []
  },
  {
   "cell_type": "markdown",
   "metadata": {},
   "source": [
    "## 1- Implémentation de la méthode de gradient\n",
    "\n",
    "Algorithme de gradient générique : \n",
    "\n",
    "Construction d'une suite telle que \n",
    "\n",
    "\n",
    "\\begin{align*}\n",
    "    x_{k+1} = x_k - \\alpha_k D_k \\nabla f(x_k)\n",
    "\\end{align*}\n",
    "\n",
    "où $\\alpha_k$est tel que : "
   ]
  },
  {
   "cell_type": "markdown",
   "metadata": {},
   "source": [
    "\\begin{align*}\n",
    "    f(x_k-\\alpha_kD_k\\nabla f(x_k)) = min-{\\alpha>=0} (f(x_k-\\alpha D_k \\nabla f(x_k))\n",
    "\\end{align*}\n",
    "\n",
    "\n",
    "et $D_k$ est une matrice définie positive \n",
    "\n",
    "- ### à pas constant :  "
   ]
  },
  {
   "cell_type": "code",
   "execution_count": 7,
   "metadata": {
    "collapsed": true
   },
   "outputs": [],
   "source": [
    "#Définition du pas alpha : \n",
    "alpha = 0.1\n",
    "\n",
    "#Pc = Pas constant\n",
    "\n",
    "def Gradien(f,x, PC, alpha=0.1, epsilon=10**(-7)):\n",
    "    Arret=False\n",
    "    k=0\n",
    "\n",
    "    \n",
    "    while(Arret==False):\n",
    "        \"\"\"On vérifie si le pas est constant ou non, si le pas n'est pas constant, \n",
    "        on le calcule grâce à optimize.line_search\"\"\"\n",
    "        \n",
    "        if PC==False:\n",
    "            alpha=optimize.line_search(f,fprime,x)\n",
    "        \n",
    "        #On calcul x_k+1 à partir de x_k grâce à la formule : \n",
    "        x = x-alpha*gradient(f,x)\n",
    "\n",
    "        \n",
    "        if np.absolute(gradient(f,x)) < epsilon:\n",
    "            Arret=True    \n",
    "        else:\n",
    "            k+=1\n",
    "    return x"
   ]
  }
 ],
 "metadata": {
  "kernelspec": {
   "display_name": "Python 3",
   "language": "python",
   "name": "python3"
  },
  "language_info": {
   "codemirror_mode": {
    "name": "ipython",
    "version": 3
   },
   "file_extension": ".py",
   "mimetype": "text/x-python",
   "name": "python",
   "nbconvert_exporter": "python",
   "pygments_lexer": "ipython3",
   "version": "3.6.3"
  }
 },
 "nbformat": 4,
 "nbformat_minor": 2
}

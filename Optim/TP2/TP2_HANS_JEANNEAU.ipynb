{
 "cells": [
  {
   "cell_type": "markdown",
   "metadata": {},
   "source": [
    "# Adrien HANS & Tanguy JEANNEAU\n",
    "\n",
    "# Travaux pratiques - Optimisation non linéaire avec contraintes : "
   ]
  },
  {
   "cell_type": "code",
   "execution_count": 6,
   "metadata": {
    "collapsed": true
   },
   "outputs": [],
   "source": [
    "import matplotlib.pyplot as plt\n",
    "import scipy.optimize as opt\n",
    "import numpy as np"
   ]
  },
  {
   "cell_type": "markdown",
   "metadata": {},
   "source": [
    "## Partie 1 - Méthode de pénalité extérieure : \n",
    "\n",
    "Soit le problème suivant : \n",
    "\n",
    "\\begin{align*}\n",
    "Min \\hspace{0.1cm} f(x_1,x_2,x_3) = -x_1-x_2+x_3\n",
    "\\\\Sous\\hspace{0.1cm} contrainte\n",
    "\\\\x_1^3+x_3 \\leq 1 \n",
    "\\\\x_1^2+x_2^2+x_3^2 \\leq1 \n",
    "\\\\0 \\leq x_3 \\leq 1\n",
    "\\end{align*}"
   ]
  },
  {
   "cell_type": "markdown",
   "metadata": {},
   "source": [
    "**1)**On détermine la solution optimale de ce problème en utilisant une méthode de pénalité quadratique : "
   ]
  },
  {
   "cell_type": "code",
   "execution_count": 5,
   "metadata": {
    "collapsed": true
   },
   "outputs": [],
   "source": [
    "def f(x):\n",
    "    x1=x[0]\n",
    "    x2=x[1]\n",
    "    x3=x[2]\n",
    "    return -x1-x2+x3\n",
    "\n",
    "def gradf(x):\n",
    "    return np.array([-x[0],-x[1],x[3]])\n",
    "\n",
    "def g1(x):\n",
    "    x1=x[0]\n",
    "    x3=x[2]\n",
    "    return 1-x1^3-x3\n",
    "\n",
    "def gradg1(x):\n",
    "    return np.array([3*x[0]^2,0,-1])\n",
    "\n",
    "def g2(x):\n",
    "    x1=x[0]\n",
    "    x2=x[1]\n",
    "    x3=x[2]\n",
    "    return 1-x1^2-x2^2-x3^2\n",
    "\n",
    "def gradg2(x):\n",
    "    return np.array([-2*x[0], -2*x[1],-2*x[2]])\n",
    "\n",
    "def g3(x):\n",
    "    return x[2]\n",
    "\n",
    "def gradg3(x):\n",
    "    return np.array([0,0,1])\n",
    "\n",
    "def g4(x):\n",
    "    return 1-x[2]\n",
    "\n",
    "def gradg4(x):\n",
    "    return np.array([0,0,-1])"
   ]
  },
  {
   "cell_type": "code",
   "execution_count": null,
   "metadata": {
    "collapsed": true
   },
   "outputs": [],
   "source": [
    "#Données : \n",
    "epsilon = 0.01\n",
    "beta=1.1\n",
    "x=np.array([0,0,0])\n",
    "rho=\n",
    "tolerance=\n",
    "k=1 \n",
    "\n",
    "while rho>epsilon:\n",
    "    x=x\n",
    "    while np.abs(gradf(x)+(1/rho)*(np.maximum(0,g1(x))*gradg1(x) + np.maximum(0,g2(x))*gradg2(x) + np.maximum(0,g3(x))*gradg3(x) + np.maximum(0,g4(x))*gradg4(x)))>tolerance:\n",
    "        #On détermine une direction admissible :\n",
    "        #direction p :\n",
    "        p=\n",
    "        #On détermine un pas admissible :\n",
    "        alpha=opt.line_search(f,gradf,x,p)\n",
    "        #On met à jour x : \n",
    "        new_x=\n",
    "    x=new_x\n",
    "    rho=beta*rho\n",
    "    k+=1"
   ]
  },
  {
   "cell_type": "markdown",
   "metadata": {},
   "source": [
    "# Partie 2 - Méthode de barrière :"
   ]
  },
  {
   "cell_type": "markdown",
   "metadata": {},
   "source": [
    "Le problème est le suivant : \n",
    "\n",
    "\\begin{align*}\n",
    "Min \\hspace{0.1cm} -x_1-x2+x_3\n",
    "\\\\sous \\hspace{0.1cm}contraintes\n",
    "\\\\0 \\leq x_3 \\leq 2\n",
    "\\\\x_1^3+x_3 \\leq 2\n",
    "\\\\x_1^2+x_2^2+x_3^2 \\leq 2\n",
    "\\end{align*}"
   ]
  }
 ],
 "metadata": {
  "kernelspec": {
   "display_name": "Python 3",
   "language": "python",
   "name": "python3"
  },
  "language_info": {
   "codemirror_mode": {
    "name": "ipython",
    "version": 3
   },
   "file_extension": ".py",
   "mimetype": "text/x-python",
   "name": "python",
   "nbconvert_exporter": "python",
   "pygments_lexer": "ipython3",
   "version": "3.6.3"
  }
 },
 "nbformat": 4,
 "nbformat_minor": 2
}

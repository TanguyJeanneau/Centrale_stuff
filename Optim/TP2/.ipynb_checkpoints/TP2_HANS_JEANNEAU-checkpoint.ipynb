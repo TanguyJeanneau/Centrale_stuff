{
 "cells": [
  {
   "cell_type": "markdown",
   "metadata": {},
   "source": [
    "# Adrien HANS & Tanguy JEANNEAU\n",
    "\n",
    "# Travaux pratiques - Optimisation non linéaire avec contraintes : "
   ]
  },
  {
   "cell_type": "code",
   "execution_count": 1,
   "metadata": {},
   "outputs": [],
   "source": [
    "import matplotlib.pyplot as plt\n",
    "import scipy.optimize as opt\n",
    "import numpy as np"
   ]
  },
  {
   "cell_type": "markdown",
   "metadata": {},
   "source": [
    "## Partie 1 - Méthode de pénalité extérieure : \n",
    "\n",
    "Soit le problème suivant : \n",
    "\n",
    "\\begin{align*}\n",
    "Min \\hspace{0.1cm} f(x_1,x_2,x_3) = -x_1-x_2+x_3\n",
    "\\\\Sous\\hspace{0.1cm} contrainte\n",
    "\\\\x_1^3+x_3 \\leq 1 \n",
    "\\\\x_1^2+x_2^2+x_3^2 \\leq1 \n",
    "\\\\0 \\leq x_3 \\leq 1\n",
    "\\end{align*}"
   ]
  },
  {
   "cell_type": "markdown",
   "metadata": {},
   "source": [
    "On a : \n",
    "\n",
    "$g_1(x)=x_1^3+x_3-1$\n",
    "\n",
    "$g_2(x)=x_1^2+x_2^2+x_3^2-1$\n",
    "\n",
    "$g_3(x)=-x_3$\n",
    "\n",
    "$g_4(x)=x_3-1$"
   ]
  },
  {
   "cell_type": "markdown",
   "metadata": {},
   "source": [
    "x1 x2 x3 Q x1\n",
    "           x2\n",
    "           x3"
   ]
  },
  {
   "cell_type": "markdown",
   "metadata": {},
   "source": [
    "**1)**On détermine la solution optimale de ce problème en utilisant une méthode de pénalité quadratique : "
   ]
  },
  {
   "cell_type": "code",
   "execution_count": 2,
   "metadata": {},
   "outputs": [],
   "source": [
    "def f(x):\n",
    "    x1=x[0]\n",
    "    x2=x[1]\n",
    "    x3=x[2]\n",
    "    return -x1-x2+x3\n",
    "\n",
    "def gradf(x):\n",
    "    return np.array([-1,-1,1])\n",
    "\n",
    "def g1(x):\n",
    "    return x[0]**3+x[2]-1\n",
    "def gradg1(x):\n",
    "    return np.array([3*x[0]**2,0,1])\n",
    "\n",
    "def g2(x):\n",
    "    return x[0]**2 + x[1]**2 + x[2]**2 -1 \n",
    "def gradg2(x):\n",
    "    return np.array([2*x[0],2*x[1],2*x[2]])\n",
    "\n",
    "def g3(x):\n",
    "    return -x[2]\n",
    "def gradg3(x):\n",
    "    return np.array([0,0,-1])\n",
    "\n",
    "def g4(x):\n",
    "    return x[2]-1\n",
    "def gradg4(x):\n",
    "    return np.array([0,0,1])"
   ]
  },
  {
   "cell_type": "code",
   "execution_count": null,
   "metadata": {},
   "outputs": [],
   "source": [
    "#Données : \n",
    "epsilon = 0.01\n",
    "beta=0.7\n",
    "x=np.array([0.1,25,-50])\n",
    "rho=1\n",
    "tolerance=0.01\n",
    "k=1 \n",
    "\n",
    "def P(x):\n",
    "    p1=np.maximum(0,g1(x))*gradg1(x)\n",
    "    p2=np.maximum(0,g2(x))*gradg2(x)\n",
    "    p3=np.maximum(0,g3(x))*gradg3(x)\n",
    "    p4=np.maximum(0,g4(x))*gradg4(x)\n",
    "    Sum=p1+p2+p3+p4\n",
    "    return np.linalg.norm(gradf(x)+(1/rho)*Sum)\n",
    "\n",
    "#Algorithme méthode de pénalité :\n",
    "while rho>epsilon:\n",
    "    x=x\n",
    "    while P(x)>tolerance:\n",
    "        #On détermine une direction admissible :\n",
    "        #direction d du gradient:\n",
    "        d=-gradf(x)\n",
    "        #On pourrait aussi prendre le direction de Newton par exemple)\n",
    "        #On détermine un pas admissible :\n",
    "        alpha=opt.line_search(f,gradf,x,d)\n",
    "        #On met à jour x : \n",
    "        x=x+alpha[0]*d\n",
    "    x=x\n",
    "    print(x)\n",
    "    rho=beta*rho\n",
    "    k+=1\n",
    "print(x)"
   ]
  },
  {
   "cell_type": "markdown",
   "metadata": {},
   "source": [
    "# Partie 2 - Méthode de barrière :"
   ]
  },
  {
   "cell_type": "markdown",
   "metadata": {},
   "source": [
    "Le problème est le suivant : \n",
    "\n",
    "\\begin{align*}\n",
    "Min \\hspace{0.1cm} -x_1-x2+x_3\n",
    "\\\\sous \\hspace{0.1cm}contraintes\n",
    "\\\\0 \\leq x_3 \\leq 2\n",
    "\\\\x_1^3+x_3 \\leq 2\n",
    "\\\\x_1^2+x_2^2+x_3^2 \\leq 2\n",
    "\\end{align*}"
   ]
  },
  {
   "cell_type": "markdown",
   "metadata": {},
   "source": [
    "***Problème général avec la méthode de barrières :***\n",
    "\n",
    "Contraintes d'inégalité : \n",
    "\n",
    "min f(x) \n",
    "\n",
    "sous contraintes \n",
    "\n",
    "$g_i(x) \\leq 0,i=1,...,m$\n",
    "\n",
    "Problème pénalisé avec les méthodes de barrières : $min_x f(x)-\\rho \\sum_i log(-g_i(x))$\n",
    "\n",
    "Condition d'optimalité : \n",
    "$P(x,\\rho)=\\nabla f(x)-\\rho \\sum_i(1/g_i(x))\\nabla g_i(x)=0$\n",
    "\n",
    "Méthodes intérieures vu que $g_i(x)<0$"
   ]
  },
  {
   "cell_type": "markdown",
   "metadata": {},
   "source": [
    "***Ici :*** \n",
    "\n",
    "$ f(x)=-x_1 -x_2 +x_3$\n",
    "\n",
    "$g_1(x)=-x_3$\n",
    "\n",
    "$g_2(x)=x_3-2$\n",
    "\n",
    "$g_3(x)=x_1^3+x_3-2$\n",
    "\n",
    "$g_4(x)=x_1^2+x_2^2+x_3^2-2$"
   ]
  },
  {
   "cell_type": "code",
   "execution_count": null,
   "metadata": {},
   "outputs": [],
   "source": [
    "def f(x):\n",
    "    return -x[0]-x[1]+x[2]\n",
    "def g1(x):\n",
    "    return -x[2]\n",
    "def g2(x):\n",
    "    return x[2]-2\n",
    "def g3(x):\n",
    "    return x[0]**2 +x[2]-2\n",
    "def g4(x):\n",
    "    return x[0]**2+x[1]**2+x[2]**2-2\n",
    "\n",
    "def gradf(x):\n",
    "    return np.array([-1,-1,1])\n",
    "def gradg1(x):\n",
    "    return np.array([0,0,-1])\n",
    "def gradg2(x):\n",
    "    return np.array([0,0,1])\n",
    "def gradg3(x):\n",
    "    return np.array([3*x[0]**2,0,1])\n",
    "def gradg4(x):\n",
    "    return np.array([2*x[0],2*x[1],2*x[2]])"
   ]
  }
 ],
 "metadata": {
  "kernelspec": {
   "display_name": "Python 3",
   "language": "python",
   "name": "python3"
  },
  "language_info": {
   "codemirror_mode": {
    "name": "ipython",
    "version": 3
   },
   "file_extension": ".py",
   "mimetype": "text/x-python",
   "name": "python",
   "nbconvert_exporter": "python",
   "pygments_lexer": "ipython3",
   "version": "3.7.4"
  },
  "toc": {
   "base_numbering": 1,
   "nav_menu": {},
   "number_sections": true,
   "sideBar": true,
   "skip_h1_title": true,
   "title_cell": "Table of Contents",
   "title_sidebar": "Contents",
   "toc_cell": false,
   "toc_position": {
    "height": "calc(100% - 180px)",
    "left": "10px",
    "top": "150px",
    "width": "165px"
   },
   "toc_section_display": true,
   "toc_window_display": true
  }
 },
 "nbformat": 4,
 "nbformat_minor": 2
}

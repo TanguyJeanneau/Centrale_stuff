{
 "cells": [
  {
   "cell_type": "markdown",
   "metadata": {},
   "source": [
    "# TP4 : K-nearest neighbours & cython\n",
    "# SDIA - Python \n",
    "## Adrien HANS"
   ]
  },
  {
   "cell_type": "code",
   "execution_count": 1,
   "metadata": {
    "collapsed": true
   },
   "outputs": [],
   "source": [
    "import numpy as np\n",
    "import matplotlib.pyplot as plt"
   ]
  },
  {
   "cell_type": "markdown",
   "metadata": {},
   "source": [
    "## Classification using K-nearest neighbours algorithm\n",
    "\n",
    "This practical is a first introduction to classification using the most intuitive non parametric method : K nearest neighbours. The principle is the following. A set of labelled observations which can belong to 2 classes is given as a learning set. Then new observations must be classified as either of class 1 or 2. The principle of K-NN is to label a new observation from the most frequent label among its K nearest neighbours.\n",
    "\n",
    "### Exercise 1 : * Using synthetic data*\n",
    "\n",
    "\n",
    "\n",
    "Load the training and test data sets synth_train.txt and synth_test.txt. Targets belong to {1,2} and entries belong to $\\mathbb{R}^2$. We have 100 training data samples and 200 test samples.\n",
    "    * the 1st column contains the label of the class the sample,\n",
    "    * columns 2 & 3 contain the coordinates of each sample in 2D.\n",
    "\n",
    "\n",
    "\n",
    "\n",
    "\n",
    "\n",
    "\n",
    "We load the training and test sets :"
   ]
  },
  {
   "cell_type": "code",
   "execution_count": 2,
   "metadata": {
    "collapsed": true
   },
   "outputs": [],
   "source": [
    "# load the training set\n",
    "train = np.loadtxt('synth_train.txt') \n",
    "#...,delimiter=',') if there are ',' as delimiters\n",
    "class_train = train[:,0]\n",
    "x_train = train[:,1:]\n",
    "N_train = train.shape[0]"
   ]
  },
  {
   "cell_type": "code",
   "execution_count": 99,
   "metadata": {},
   "outputs": [],
   "source": [
    "# load the test set\n",
    "test = np.loadtxt('synth_test.txt')\n",
    "class_test_1 = test[test[:,0]==1]\n",
    "class_test_2 = test[test[:,0]==2]\n",
    "x_test = test[:,1:]\n",
    "N_test = test.shape[0]"
   ]
  },
  {
   "cell_type": "markdown",
   "metadata": {},
   "source": [
    "### TO DO:\n",
    "    a. Display the training set and distinguish the two classes. The function scatter can be useful.\n",
    "    b. Implement the K-nearest neighbours algorithm for classification.\n",
    "    c. Compute the error rate on the training set and the test set for K = 1,...,30.\n",
    "    d. Comment on your results. Which value of K seems optimal ?\n",
    "\n",
    "_Indication 1:_ Python functions to sort, norm and replicate (see `tile()`) matrices may be useful to compute and sort distances to a given data point while limiting the number of loops 'for'.\n",
    "\n",
    "_Indication 2:_ if class_pred contains the predicted labels for N_test samples, one can display classification results by using:"
   ]
  },
  {
   "cell_type": "markdown",
   "metadata": {},
   "source": [
    "#### a.  Display the training set and distinguish the two classes. The function scatter can be useful.\n",
    "We display the training data : "
   ]
  },
  {
   "cell_type": "code",
   "execution_count": 4,
   "metadata": {},
   "outputs": [
    {
     "data": {
      "image/png": "[encoded data removed]",
      "text/plain": [
       "<Figure size 432x288 with 1 Axes>"
      ]
     },
     "metadata": {},
     "output_type": "display_data"
    }
   ],
   "source": [
    "plt.figure()\n",
    "plt.plot(train[class_train==1,1],train[class_train==1,2],'ko') # class 1 in black\n",
    "plt.plot(train[class_train==2,1],train[class_train==2,2],'mo') # class 2 in magenta\n",
    "plt.show()"
   ]
  },
  {
   "cell_type": "markdown",
   "metadata": {},
   "source": [
    "#### b. Implement the K-nearest neighbours algorithm for classification."
   ]
  },
  {
   "cell_type": "markdown",
   "metadata": {
    "collapsed": true
   },
   "source": [
    "Firstly, we implement a function giving the euclidean distance between two points : \n",
    "\n",
    "\\begin{align*}\n",
    "EuclideanDistance(a,b)=\\sqrt{\\sum_{i=1}^{n}(a_i-b_i)^2}\n",
    "\\end{align*}"
   ]
  },
  {
   "cell_type": "code",
   "execution_count": 55,
   "metadata": {
    "collapsed": true
   },
   "outputs": [],
   "source": [
    "def euclid(point1, point2):\n",
    "    return np.sqrt(((point1[1:]-point2[1:])**2).sum())"
   ]
  },
  {
   "cell_type": "markdown",
   "metadata": {
    "collapsed": true
   },
   "source": [
    "Secondly, we implement the function knn to compute the K-nearest neighbours algorithm for classification : "
   ]
  },
  {
   "cell_type": "code",
   "execution_count": 64,
   "metadata": {},
   "outputs": [],
   "source": [
    "import operator\n",
    "\n",
    "#The function getNeighbours permits to get the k neighbours of a test_set\n",
    "def getNeighbours(training, test, k):\n",
    "    \n",
    "    distances = []\n",
    "    neighbours = []\n",
    "\n",
    "    for x in training:  \n",
    "        \n",
    "        dist = euclid(test, x)\n",
    "        distances.append((x, dist))\n",
    "        sorted_distances=sorted(distances,key=operator.itemgetter(1))\n",
    "    for x in range(k):\n",
    "        neighbours.append(sorted_distances[x][0])\n",
    "    return np.array(neighbours)\n",
    "\n",
    "\n",
    "def KNN(train,test,k):\n",
    "    neighbours=np.array(getNeighbours(train,test,k))\n",
    "    sorted_neighbours=np.sort(neighbours[:,0])\n",
    "    cat=list(set(sorted_neighbours))\n",
    "    votes=np.array([[c,len(sorted_neighbours[sorted_neighbours==c])] for c in cat])\n",
    "    result=sorted(votes,key=operator.itemgetter(1),reverse=True)[0][0]\n",
    "    return result"
   ]
  },
  {
   "cell_type": "markdown",
   "metadata": {
    "collapsed": true
   },
   "source": [
    "#### c. Compute the error rate on the training set and the test set for K = 1,...,30."
   ]
  },
  {
   "cell_type": "code",
   "execution_count": 75,
   "metadata": {},
   "outputs": [],
   "source": [
    "List_error=[]\n",
    "n=30\n",
    "result=0\n",
    "\n",
    "for k in range(1,n+1):\n",
    "    nb_errors=0\n",
    "    for x in test:\n",
    "        result=KNN(train,x,k)\n",
    "        if result != x[0]:\n",
    "            nb_errors+=1\n",
    "    List_error.append((1-(nb_errors/N_test)) * 100)"
   ]
  },
  {
   "cell_type": "markdown",
   "metadata": {},
   "source": [
    "We plot the results : "
   ]
  },
  {
   "cell_type": "code",
   "execution_count": 87,
   "metadata": {
    "scrolled": true
   },
   "outputs": [
    {
     "data": {
      "image/png": "[encoded data removed]",
      "text/plain": [
       "<Figure size 432x288 with 1 Axes>"
      ]
     },
     "metadata": {},
     "output_type": "display_data"
    }
   ],
   "source": [
    "plt.plot([k for k in range(1,n+1)],List_error)\n",
    "plt.title('Evolution of the correctness with increasing k')\n",
    "plt.ylabel('Correctness (%)')\n",
    "plt.xlabel('K')\n",
    "plt.show()"
   ]
  },
  {
   "cell_type": "markdown",
   "metadata": {},
   "source": [
    "We show the values in a table : "
   ]
  },
  {
   "cell_type": "code",
   "execution_count": 94,
   "metadata": {},
   "outputs": [
    {
     "name": "stdout",
     "output_type": "stream",
     "text": [
      "k =  1 Correctness =  93.5\n",
      "k =  2 Correctness =  94.0\n",
      "k =  3 Correctness =  95.5\n",
      "k =  4 Correctness =  95.0\n",
      "k =  5 Correctness =  94.0\n",
      "k =  6 Correctness =  94.5\n",
      "k =  7 Correctness =  93.0\n",
      "k =  8 Correctness =  93.0\n",
      "k =  9 Correctness =  92.5\n",
      "k =  10 Correctness =  92.5\n",
      "k =  11 Correctness =  91.0\n",
      "k =  12 Correctness =  92.5\n",
      "k =  13 Correctness =  92.0\n",
      "k =  14 Correctness =  92.5\n",
      "k =  15 Correctness =  92.5\n",
      "k =  16 Correctness =  92.5\n",
      "k =  17 Correctness =  92.0\n",
      "k =  18 Correctness =  92.0\n",
      "k =  19 Correctness =  92.0\n",
      "k =  20 Correctness =  92.0\n",
      "k =  21 Correctness =  90.0\n",
      "k =  22 Correctness =  90.0\n",
      "k =  23 Correctness =  88.0\n",
      "k =  24 Correctness =  88.5\n",
      "k =  25 Correctness =  87.0\n",
      "k =  26 Correctness =  87.0\n",
      "k =  27 Correctness =  85.5\n",
      "k =  28 Correctness =  86.0\n",
      "k =  29 Correctness =  84.5\n",
      "k =  30 Correctness =  84.5\n"
     ]
    }
   ],
   "source": [
    "for k in range(1,n+1):\n",
    "    print('k = ', k, 'Correctness = ',List_error[k-1] )"
   ]
  },
  {
   "cell_type": "markdown",
   "metadata": {
    "collapsed": true
   },
   "source": [
    "####  d. Comment on your results. Which value of K seems optimal ?\n",
    "The correctness increases up to 95.5% at K=3 and then decreases down to 84.5% for k=30. \n",
    "\n",
    "Thus, the optimal value of K seems then to be K=3. "
   ]
  },
  {
   "cell_type": "markdown",
   "metadata": {},
   "source": [
    "### 2.  Application to a real data set : Breast cancer Wisconsin\n"
   ]
  },
  {
   "cell_type": "code",
   "execution_count": null,
   "metadata": {
    "collapsed": true
   },
   "outputs": [],
   "source": []
  },
  {
   "cell_type": "code",
   "execution_count": null,
   "metadata": {
    "collapsed": true
   },
   "outputs": [],
   "source": []
  },
  {
   "cell_type": "code",
   "execution_count": null,
   "metadata": {
    "collapsed": true
   },
   "outputs": [],
   "source": []
  }
 ],
 "metadata": {
  "kernelspec": {
   "display_name": "Python 3",
   "language": "python",
   "name": "python3"
  },
  "language_info": {
   "codemirror_mode": {
    "name": "ipython",
    "version": 3
   },
   "file_extension": ".py",
   "mimetype": "text/x-python",
   "name": "python",
   "nbconvert_exporter": "python",
   "pygments_lexer": "ipython3",
   "version": "3.6.3"
  }
 },
 "nbformat": 4,
 "nbformat_minor": 2
}

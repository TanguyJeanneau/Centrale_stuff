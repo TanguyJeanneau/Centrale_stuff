{
 "cells": [
  {
   "cell_type": "markdown",
   "metadata": {},
   "source": [
    "# TP4 : K-nearest neighbours & cython\n",
    "# SDIA - Python \n",
    "## Adrien HANS"
   ]
  },
  {
   "cell_type": "code",
   "execution_count": 1,
   "metadata": {
    "collapsed": true
   },
   "outputs": [],
   "source": [
    "import numpy as np\n",
    "import matplotlib.pyplot as plt"
   ]
  },
  {
   "cell_type": "markdown",
   "metadata": {},
   "source": [
    "## Classification using K-nearest neighbours algorithm\n",
    "\n",
    "This practical is a first introduction to classification using the most intuitive non parametric method : K nearest neighbours. The principle is the following. A set of labelled observations which can belong to 2 classes is given as a learning set. Then new observations must be classified as either of class 1 or 2. The principle of K-NN is to label a new observation from the most frequent label among its K nearest neighbours.\n",
    "\n",
    "### Exercise 1 : * Using synthetic data*\n",
    "\n",
    "\n",
    "\n",
    "Load the training and test data sets synth_train.txt and synth_test.txt. Targets belong to {1,2} and entries belong to $\\mathbb{R}^2$. We have 100 training data samples and 200 test samples.\n",
    "    * the 1st column contains the label of the class the sample,\n",
    "    * columns 2 & 3 contain the coordinates of each sample in 2D.\n",
    "\n",
    "\n",
    "\n",
    "\n",
    "\n",
    "\n",
    "\n",
    "We load the training and test sets :"
   ]
  },
  {
   "cell_type": "code",
   "execution_count": 2,
   "metadata": {
    "collapsed": true
   },
   "outputs": [],
   "source": [
    "# load the training set\n",
    "train = np.loadtxt('synth_train.txt') \n",
    "#...,delimiter=',') if there are ',' as delimiters\n",
    "class_train = train[:,0]\n",
    "x_train = train[:,1:]\n",
    "N_train = train.shape[0]"
   ]
  },
  {
   "cell_type": "code",
   "execution_count": 3,
   "metadata": {
    "collapsed": true
   },
   "outputs": [],
   "source": [
    "# load the test set\n",
    "test = np.loadtxt('synth_test.txt')\n",
    "class_test_1 = test[test[:,0]==1]\n",
    "class_test_2 = test[test[:,0]==2]\n",
    "x_test = test[:,1:]\n",
    "N_test = test.shape[0]"
   ]
  },
  {
   "cell_type": "markdown",
   "metadata": {},
   "source": [
    "### TO DO:\n",
    "    a. Display the training set and distinguish the two classes. The function scatter can be useful.\n",
    "    b. Implement the K-nearest neighbours algorithm for classification.\n",
    "    c. Compute the error rate on the training set and the test set for K = 1,...,30.\n",
    "    d. Comment on your results. Which value of K seems optimal ?\n",
    "\n",
    "_Indication 1:_ Python functions to sort, norm and replicate (see `tile()`) matrices may be useful to compute and sort distances to a given data point while limiting the number of loops 'for'.\n",
    "\n",
    "_Indication 2:_ if class_pred contains the predicted labels for N_test samples, one can display classification results by using:"
   ]
  },
  {
   "cell_type": "markdown",
   "metadata": {},
   "source": [
    "#### a.  Display the training set and distinguish the two classes. The function scatter can be useful.\n",
    "We display the training data : "
   ]
  },
  {
   "cell_type": "code",
   "execution_count": 4,
   "metadata": {},
   "outputs": [
    {
     "data": {
      "image/png": "[encoded data removed]",
      "text/plain": [
       "<Figure size 432x288 with 1 Axes>"
      ]
     },
     "metadata": {},
     "output_type": "display_data"
    }
   ],
   "source": [
    "plt.figure()\n",
    "plt.plot(train[class_train==1,1],train[class_train==1,2],'ko') # class 1 in black\n",
    "plt.plot(train[class_train==2,1],train[class_train==2,2],'mo') # class 2 in magenta\n",
    "plt.show()"
   ]
  },
  {
   "cell_type": "markdown",
   "metadata": {},
   "source": [
    "#### b. Implement the K-nearest neighbours algorithm for classification."
   ]
  },
  {
   "cell_type": "markdown",
   "metadata": {
    "collapsed": true
   },
   "source": [
    "Firstly, we implement a function giving the euclidean distance between two points : \n",
    "\n",
    "\\begin{align*}\n",
    "EuclideanDistance(a,b)=\\sqrt{\\sum_{i=1}^{n}(a_i-b_i)^2}\n",
    "\\end{align*}"
   ]
  },
  {
   "cell_type": "code",
   "execution_count": 55,
   "metadata": {
    "collapsed": true
   },
   "outputs": [],
   "source": [
    "def euclid(point1, point2):\n",
    "    return np.sqrt(((point1[1:]-point2[1:])**2).sum())"
   ]
  },
  {
   "cell_type": "markdown",
   "metadata": {
    "collapsed": true
   },
   "source": [
    "Secondly, we implement the function knn to compute the K-nearest neighbours algorithm for classification : "
   ]
  },
  {
   "cell_type": "code",
   "execution_count": 56,
   "metadata": {},
   "outputs": [],
   "source": [
    "import operator\n",
    "\n",
    "#The function getNeighbours permits to get the k neighbours of a test_set\n",
    "def getNeighbours(training, test, k):\n",
    "    \n",
    "    distances = []\n",
    "    neighbours = []\n",
    "\n",
    "    for x in training:  \n",
    "        \n",
    "        dist = euclid(test, x)\n",
    "        distances.append((x, dist))\n",
    "        sorted_distances=sorted(distances,key=operator.itemgetter(1))\n",
    "    for x in range(k):\n",
    "        neighbours.append(sorted_distances[x][0])\n",
    "    return np.array(neighbours)\n",
    "\n",
    "\n",
    "def KNN(train,test,k):\n",
    "    neighbours=np.array(getNeighbours(train,test,k))\n",
    "    sorted_neighbours=np.sort(neighbours[:,0])\n",
    "    cat=list(set(sorted_neighbours))\n",
    "    votes=np.array([[c,len(sorted_neighbours[sorted_neighbours==c])] for c in cat])\n",
    "    result=sorted(votes,key=operator.itemgetter(1),reverse=True)[0][0]\n",
    "    return result"
   ]
  },
  {
   "cell_type": "markdown",
   "metadata": {
    "collapsed": true
   },
   "source": [
    "#### c. Compute the error rate on the training set and the test set for K = 1,...,30."
   ]
  },
  {
   "cell_type": "code",
   "execution_count": null,
   "metadata": {
    "collapsed": true
   },
   "outputs": [],
   "source": [
    "List_error=[]\n",
    "n=30\n",
    "\n",
    "for k in range(n):\n",
    "    for x in test:\n",
    "        KNN(train,x,k)\n",
    "\n",
    "        \n",
    "        \n",
    "        \n",
    "print(List_error)"
   ]
  },
  {
   "cell_type": "code",
   "execution_count": null,
   "metadata": {
    "collapsed": true
   },
   "outputs": [],
   "source": []
  },
  {
   "cell_type": "code",
   "execution_count": null,
   "metadata": {
    "collapsed": true
   },
   "outputs": [],
   "source": []
  },
  {
   "cell_type": "markdown",
   "metadata": {},
   "source": [
    "### 2.  Application to a real data set : Breast cancer Wisconsin\n"
   ]
  },
  {
   "cell_type": "code",
   "execution_count": null,
   "metadata": {
    "collapsed": true
   },
   "outputs": [],
   "source": [
    "wdbc12.data.txt"
   ]
  }
 ],
 "metadata": {
  "kernelspec": {
   "display_name": "Python 3",
   "language": "python",
   "name": "python3"
  },
  "language_info": {
   "codemirror_mode": {
    "name": "ipython",
    "version": 3
   },
   "file_extension": ".py",
   "mimetype": "text/x-python",
   "name": "python",
   "nbconvert_exporter": "python",
   "pygments_lexer": "ipython3",
   "version": "3.6.3"
  }
 },
 "nbformat": 4,
 "nbformat_minor": 2
}

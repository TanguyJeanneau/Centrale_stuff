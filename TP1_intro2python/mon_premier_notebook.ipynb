{
 "cells": [
  {
   "cell_type": "markdown",
   "metadata": {},
   "source": [
    "** Ceci est mon premier notebook**\n",
    "\n",
    "Je vais pouvoir essayer plein de fonctionnalités. \n",
    "\n",
    "Les cellules peuvent contenir du texte au format **markdown** incluant du **latex** pour les formules comme\n",
    "$$\n",
    "f(x,y) = \\frac{\\int_0^\\infty e^{-ax} dx}{1+\\cos^2(by)}\n",
    "$$\n",
    "Elles peuvent aussi contenir du **code python** comme dans la cellule ci-dessous : (taper \"shift+entrée\" pour exécuter)"
   ]
  },
  {
   "cell_type": "code",
   "execution_count": 1,
   "metadata": {},
   "outputs": [],
   "source": [
    "# Import useful packages\n",
    "from pylab import *\n",
    "import numpy as np\n",
    "\n",
    "a=4\n",
    "b=array([[1,2,3],[4,5,6]])\n",
    "c = a * b\n",
    "d = b ** a   # noter la différence entre * et **"
   ]
  },
  {
   "cell_type": "code",
   "execution_count": 2,
   "metadata": {},
   "outputs": [
    {
     "name": "stdout",
     "output_type": "stream",
     "text": [
      "b =  [[1 2 3]\n",
      " [4 5 6]]\n",
      "c =  [[ 4  8 12]\n",
      " [16 20 24]]\n",
      "d =  [[   1   16   81]\n",
      " [ 256  625 1296]]\n"
     ]
    }
   ],
   "source": [
    "print('b = ',b)\n",
    "print('c = ',c)\n",
    "print('d = ',d)"
   ]
  },
  {
   "cell_type": "markdown",
   "metadata": {},
   "source": [
    "On peut aussi facilement obtenir des **figures** : "
   ]
  },
  {
   "cell_type": "code",
   "execution_count": 3,
   "metadata": {
    "scrolled": true
   },
   "outputs": [
    {
     "data": {
      "text/plain": [
       "<matplotlib.legend.Legend at 0x7f996c0e4940>"
      ]
     },
     "execution_count": 3,
     "metadata": {},
     "output_type": "execute_result"
    },
    {
     "data": {
      "image/png": "[encoded data removed]",
      "text/plain": [
       "<Figure size 432x288 with 1 Axes>"
      ]
     },
     "metadata": {
      "needs_background": "light"
     },
     "output_type": "display_data"
    }
   ],
   "source": [
    "x = np.arange(0,10,0.1)\n",
    "alpha = 1;\n",
    "line_1, = plot(x,x**2*exp(-alpha*x),color='r',linewidth=2, label='belle courbe')\n",
    "xlabel('abscisse')\n",
    "ylabel('ordonnée')\n",
    "title(r'Ma figure($\\alpha$)')   # noter la présence du 'r' devant le texte => LATEX !\n",
    "legend(handles=[line_1])"
   ]
  },
  {
   "cell_type": "code",
   "execution_count": 4,
   "metadata": {},
   "outputs": [
    {
     "ename": "ModuleNotFoundError",
     "evalue": "No module named 'fibo'",
     "output_type": "error",
     "traceback": [
      "\u001b[0;31m---------------------------------------------------------------------------\u001b[0m",
      "\u001b[0;31mModuleNotFoundError\u001b[0m                       Traceback (most recent call last)",
      "\u001b[0;32m<ipython-input-4-023d121271ff>\u001b[0m in \u001b[0;36m<module>\u001b[0;34m\u001b[0m\n\u001b[0;32m----> 1\u001b[0;31m \u001b[0;32mimport\u001b[0m \u001b[0mfibo\u001b[0m\u001b[0;34m\u001b[0m\u001b[0;34m\u001b[0m\u001b[0m\n\u001b[0m\u001b[1;32m      2\u001b[0m \u001b[0mfibo\u001b[0m\u001b[0;34m.\u001b[0m\u001b[0mfib\u001b[0m\u001b[0;34m(\u001b[0m\u001b[0;36m5\u001b[0m\u001b[0;34m)\u001b[0m\u001b[0;34m\u001b[0m\u001b[0;34m\u001b[0m\u001b[0m\n",
      "\u001b[0;31mModuleNotFoundError\u001b[0m: No module named 'fibo'"
     ]
    }
   ],
   "source": [
    "import fibo\n",
    "fibo.fib(5)"
   ]
  },
  {
   "cell_type": "code",
   "execution_count": null,
   "metadata": {
    "collapsed": true
   },
   "outputs": [],
   "source": []
  }
 ],
 "metadata": {
  "kernelspec": {
   "display_name": "Python 3",
   "language": "python",
   "name": "python3"
  },
  "language_info": {
   "codemirror_mode": {
    "name": "ipython",
    "version": 3
   },
   "file_extension": ".py",
   "mimetype": "text/x-python",
   "name": "python",
   "nbconvert_exporter": "python",
   "pygments_lexer": "ipython3",
   "version": "3.6.8"
  }
 },
 "nbformat": 4,
 "nbformat_minor": 2
}
